{
  "cells": [
    {
      "cell_type": "code",
      "execution_count": 145,
      "metadata": {
        "collapsed": false
      },
      "outputs": [],
      "source": [
        "%matplotlib inline"
      ]
    },
    {
      "cell_type": "markdown",
      "metadata": {},
      "source": [
        "## Imports"
      ]
    },
    {
      "cell_type": "code",
      "execution_count": 146,
      "metadata": {},
      "outputs": [],
      "source": [
        "import torch\n",
        "import pandas as pd\n",
        "from torchtext.data.utils import get_tokenizer\n",
        "from collections import Counter\n",
        "from torchtext.vocab import vocab\n",
        "from torch.utils.data import DataLoader\n",
        "from torch import nn\n",
        "import time\n",
        "from torch.utils.data.dataset import random_split\n",
        "\n",
        "import warnings\n",
        "warnings.filterwarnings(\"ignore\")\n",
        "\n",
        "device = torch.device(\"cuda\" if torch.cuda.is_available() else \"cpu\")\n"
      ]
    },
    {
      "cell_type": "markdown",
      "metadata": {},
      "source": [
        "## Load Datasets and Pre-process"
      ]
    },
    {
      "cell_type": "code",
      "execution_count": 147,
      "metadata": {},
      "outputs": [],
      "source": [
        "# Load data from csv file\n",
        "train_df = pd.read_csv('../data/train_berkeley.csv') \n",
        "test_df = pd.read_csv('../data/test_berkeley.csv')"
      ]
    },
    {
      "cell_type": "code",
      "execution_count": 148,
      "metadata": {},
      "outputs": [],
      "source": [
        "# Add labels to the dataframe\n",
        "train_df['label'] = 0\n",
        "for i in range(len(train_df)):\n",
        "    if train_df.discourse_effectiveness[i] == 'Adequate':\n",
        "        train_df['label'][i] = 0 \n",
        "    elif train_df.discourse_effectiveness[i] == 'Effective':    \n",
        "        train_df['label'][i] = 1\n",
        "    elif train_df.discourse_effectiveness[i] == 'Ineffective':    \n",
        "        train_df['label'][i] = 2\n",
        "\n",
        "test_df['label'] = 0\n",
        "for i in range(len(test_df)):\n",
        "    if test_df.discourse_effectiveness[i] == 'Adequate':\n",
        "        test_df['label'][i] = 0 \n",
        "    elif test_df.discourse_effectiveness[i] == 'Effective':    \n",
        "        test_df['label'][i] = 1\n",
        "    elif test_df.discourse_effectiveness[i] == 'Ineffective':    \n",
        "        test_df['label'][i] = 2"
      ]
    },
    {
      "cell_type": "code",
      "execution_count": 149,
      "metadata": {},
      "outputs": [],
      "source": [
        "# take label and text from dataframe and convert into an iterator object\n",
        "train_iter_list = []\n",
        "for i in range(len(train_df)):\n",
        "    train_iter_list.append([train_df.label[i], train_df.discourse_text[i]])\n",
        "train_iter = (x for x in train_iter_list) \n",
        "train_iter = torch.utils.data.datapipes.iter.grouping.ShardingFilterIterDataPipe(train_iter)\n",
        "\n",
        "test_iter_list = []\n",
        "for i in range(len(test_df)):\n",
        "    test_iter_list.append([test_df.label[i], test_df.discourse_text[i]])\n",
        "test_iter = (x for x in test_iter_list) \n",
        "test_iter = torch.utils.data.datapipes.iter.grouping.ShardingFilterIterDataPipe(test_iter)"
      ]
    },
    {
      "cell_type": "markdown",
      "metadata": {},
      "source": [
        "## Data Processing Pipeline"
      ]
    },
    {
      "cell_type": "code",
      "execution_count": 150,
      "metadata": {
        "collapsed": false
      },
      "outputs": [],
      "source": [
        "# build vocabulary with the raw training dataset\n",
        "tokenizer = get_tokenizer('basic_english')\n",
        "\n",
        "counter = Counter()\n",
        "for (label, line) in train_iter:\n",
        "    counter.update(tokenizer(line))\n",
        "vocab = vocab(counter, min_freq = 1)"
      ]
    },
    {
      "cell_type": "code",
      "execution_count": 151,
      "metadata": {
        "collapsed": false
      },
      "outputs": [],
      "source": [
        "text_pipeline = lambda x: [vocab[token] for token in tokenizer(x)]\n",
        "label_pipeline = lambda x: int(x)"
      ]
    },
    {
      "cell_type": "markdown",
      "metadata": {},
      "source": [
        "## Generate Data Batch and Iterator "
      ]
    },
    {
      "cell_type": "code",
      "execution_count": 152,
      "metadata": {
        "collapsed": false
      },
      "outputs": [],
      "source": [
        "\n",
        "def collate_batch(batch):\n",
        "    label_list, text_list, offsets = [], [], [0]\n",
        "    for (_label, _text) in batch:\n",
        "         label_list.append(label_pipeline(_label))\n",
        "         processed_text = torch.tensor(text_pipeline(_text), dtype=torch.int64)\n",
        "         text_list.append(processed_text)\n",
        "         offsets.append(processed_text.size(0))\n",
        "    label_list = torch.tensor(label_list, dtype=torch.int64)\n",
        "    offsets = torch.tensor(offsets[:-1]).cumsum(dim=0)\n",
        "    text_list = torch.cat(text_list)\n",
        "    return label_list.to(device), text_list.to(device), offsets.to(device)    \n"
      ]
    },
    {
      "cell_type": "code",
      "execution_count": 153,
      "metadata": {},
      "outputs": [],
      "source": [
        "train_iter_list = []\n",
        "for i in range(len(train_df)):\n",
        "    train_iter_list.append([train_df.label[i], train_df.discourse_text[i]])\n",
        "train_iter = (x for x in train_iter_list) \n",
        "train_iter = torch.utils.data.datapipes.iter.grouping.ShardingFilterIterDataPipe(train_iter)\n",
        "\n",
        "dataloader = DataLoader(train_iter, batch_size=8, shuffle=False, collate_fn=collate_batch)"
      ]
    },
    {
      "cell_type": "markdown",
      "metadata": {},
      "source": [
        "## Build Model"
      ]
    },
    {
      "cell_type": "code",
      "execution_count": 154,
      "metadata": {
        "collapsed": false
      },
      "outputs": [],
      "source": [
        "\n",
        "class TextClassificationModel(nn.Module):\n",
        "\n",
        "    def __init__(self, vocab_size, embed_dim, num_class):\n",
        "        super(TextClassificationModel, self).__init__()\n",
        "        self.embedding = nn.EmbeddingBag(vocab_size, embed_dim, sparse=True)\n",
        "        self.fc = nn.Linear(embed_dim, num_class)\n",
        "        self.init_weights()\n",
        "\n",
        "    def init_weights(self):\n",
        "        initrange = 0.5\n",
        "        self.embedding.weight.data.uniform_(-initrange, initrange)\n",
        "        self.fc.weight.data.uniform_(-initrange, initrange)\n",
        "        self.fc.bias.data.zero_()\n",
        "\n",
        "    def forward(self, text, offsets):\n",
        "        embedded = self.embedding(text, offsets)\n",
        "        return self.fc(embedded)"
      ]
    },
    {
      "cell_type": "markdown",
      "metadata": {},
      "source": [
        "## Initiate an Instance"
      ]
    },
    {
      "cell_type": "code",
      "execution_count": 155,
      "metadata": {},
      "outputs": [],
      "source": [
        "train_iter_list = []\n",
        "for i in range(len(train_df)):\n",
        "    train_iter_list.append([train_df.label[i], train_df.discourse_text[i]])\n",
        "train_iter = (x for x in train_iter_list) \n",
        "train_iter = torch.utils.data.datapipes.iter.grouping.ShardingFilterIterDataPipe(train_iter)"
      ]
    },
    {
      "cell_type": "code",
      "execution_count": 156,
      "metadata": {
        "collapsed": false
      },
      "outputs": [],
      "source": [
        "num_class = len(set([label for (label, text) in train_iter]))\n",
        "vocab_size = len(vocab)\n",
        "emsize = 64\n",
        "model = TextClassificationModel(vocab_size, emsize, num_class).to(device)"
      ]
    },
    {
      "cell_type": "markdown",
      "metadata": {},
      "source": [
        "## Define Training Loop\n",
        "\n",
        "\n"
      ]
    },
    {
      "cell_type": "code",
      "execution_count": 157,
      "metadata": {
        "collapsed": false
      },
      "outputs": [],
      "source": [
        "\n",
        "def train(dataloader):\n",
        "    model.train()\n",
        "    total_acc, total_count = 0, 0\n",
        "    log_interval = 500\n",
        "    start_time = time.time()\n",
        "\n",
        "    for idx, (label, text, offsets) in enumerate(dataloader):\n",
        "        optimizer.zero_grad()\n",
        "        predited_label = model(text, offsets)\n",
        "        loss = criterion(predited_label, label)\n",
        "        loss.backward()\n",
        "        torch.nn.utils.clip_grad_norm_(model.parameters(), 0.1)\n",
        "        optimizer.step()\n",
        "        total_acc += (predited_label.argmax(1) == label).sum().item()\n",
        "        total_count += label.size(0)\n",
        "        if idx % log_interval == 0 and idx > 0:\n",
        "            elapsed = time.time() - start_time\n",
        "            print('| epoch {:3d} | {:5d}/{:5d} batches '\n",
        "                  '| accuracy {:8.3f}'.format(epoch, idx, len(dataloader),\n",
        "                                              total_acc/total_count))\n",
        "            total_acc, total_count = 0, 0\n",
        "            start_time = time.time()\n",
        "\n",
        "def evaluate(dataloader):\n",
        "    model.eval()\n",
        "    total_acc, total_count = 0, 0\n",
        "\n",
        "    with torch.no_grad():\n",
        "        for idx, (label, text, offsets) in enumerate(dataloader):\n",
        "            predited_label = model(text, offsets)\n",
        "            loss = criterion(predited_label, label)\n",
        "            total_acc += (predited_label.argmax(1) == label).sum().item()\n",
        "            total_count += label.size(0)\n",
        "    return total_acc/total_count"
      ]
    },
    {
      "cell_type": "markdown",
      "metadata": {},
      "source": [
        "## Split the Dataset and Run the Model Training"
      ]
    },
    {
      "cell_type": "code",
      "execution_count": 158,
      "metadata": {},
      "outputs": [],
      "source": [
        "# Hyperparameters\n",
        "EPOCHS = 10 # epoch\n",
        "LR = 5  # learning rate\n",
        "BATCH_SIZE = 64 # batch size for training"
      ]
    },
    {
      "cell_type": "code",
      "execution_count": 159,
      "metadata": {},
      "outputs": [],
      "source": [
        "train_iter_list = []\n",
        "for i in range(len(train_df)):\n",
        "    train_iter_list.append([train_df.label[i], train_df.discourse_text[i]])\n",
        "train_iter = (x for x in train_iter_list) \n",
        "train_iter = torch.utils.data.datapipes.iter.grouping.ShardingFilterIterDataPipe(train_iter)\n",
        "\n",
        "test_iter_list = []\n",
        "for i in range(len(test_df)):\n",
        "    test_iter_list.append([test_df.label[i], test_df.discourse_text[i]])\n",
        "test_iter = (x for x in test_iter_list) \n",
        "test_iter = torch.utils.data.datapipes.iter.grouping.ShardingFilterIterDataPipe(test_iter)"
      ]
    },
    {
      "cell_type": "code",
      "execution_count": 160,
      "metadata": {
        "collapsed": false
      },
      "outputs": [
        {
          "name": "stdout",
          "output_type": "stream",
          "text": [
            "-----------------------------------------------------------\n",
            "| end of epoch   1 | time:  4.29s | valid accuracy    0.625 \n",
            "-----------------------------------------------------------\n",
            "-----------------------------------------------------------\n",
            "| end of epoch   2 | time:  5.39s | valid accuracy    0.628 \n",
            "-----------------------------------------------------------\n",
            "-----------------------------------------------------------\n",
            "| end of epoch   3 | time:  5.38s | valid accuracy    0.618 \n",
            "-----------------------------------------------------------\n",
            "-----------------------------------------------------------\n",
            "| end of epoch   4 | time:  5.43s | valid accuracy    0.640 \n",
            "-----------------------------------------------------------\n",
            "-----------------------------------------------------------\n",
            "| end of epoch   5 | time:  5.27s | valid accuracy    0.633 \n",
            "-----------------------------------------------------------\n",
            "-----------------------------------------------------------\n",
            "| end of epoch   6 | time:  5.37s | valid accuracy    0.637 \n",
            "-----------------------------------------------------------\n",
            "-----------------------------------------------------------\n",
            "| end of epoch   7 | time:  5.25s | valid accuracy    0.639 \n",
            "-----------------------------------------------------------\n",
            "-----------------------------------------------------------\n",
            "| end of epoch   8 | time:  5.38s | valid accuracy    0.640 \n",
            "-----------------------------------------------------------\n",
            "-----------------------------------------------------------\n",
            "| end of epoch   9 | time:  5.38s | valid accuracy    0.640 \n",
            "-----------------------------------------------------------\n",
            "-----------------------------------------------------------\n",
            "| end of epoch  10 | time:  5.41s | valid accuracy    0.640 \n",
            "-----------------------------------------------------------\n"
          ]
        }
      ],
      "source": [
        "\n",
        "criterion = torch.nn.CrossEntropyLoss()\n",
        "optimizer = torch.optim.SGD(model.parameters(), lr=LR)\n",
        "scheduler = torch.optim.lr_scheduler.StepLR(optimizer, 1.0, gamma=0.1)\n",
        "total_accu = None\n",
        "train_dataset = list(train_iter)\n",
        "test_dataset = list(test_iter)\n",
        "num_train = int(len(train_dataset) * 0.95)\n",
        "split_train_, split_valid_ = \\\n",
        "    random_split(train_dataset, [num_train, len(train_dataset) - num_train])\n",
        "\n",
        "train_dataloader = DataLoader(split_train_, batch_size=BATCH_SIZE,\n",
        "                              shuffle=True, collate_fn=collate_batch)\n",
        "valid_dataloader = DataLoader(split_valid_, batch_size=BATCH_SIZE,\n",
        "                              shuffle=True, collate_fn=collate_batch)\n",
        "test_dataloader = DataLoader(test_dataset, batch_size=BATCH_SIZE,\n",
        "                             shuffle=True, collate_fn=collate_batch)\n",
        "\n",
        "for epoch in range(1, EPOCHS + 1):\n",
        "    epoch_start_time = time.time()\n",
        "    train(train_dataloader)\n",
        "    accu_val = evaluate(valid_dataloader)\n",
        "    if total_accu is not None and total_accu > accu_val:\n",
        "      scheduler.step()\n",
        "    else:\n",
        "       total_accu = accu_val\n",
        "    print('-' * 59)\n",
        "    print('| end of epoch {:3d} | time: {:5.2f}s | '\n",
        "          'valid accuracy {:8.3f} '.format(epoch,\n",
        "                                           time.time() - epoch_start_time,\n",
        "                                           accu_val))\n",
        "    print('-' * 59)"
      ]
    },
    {
      "cell_type": "markdown",
      "metadata": {},
      "source": [
        "## Model Evaluation on  Test Dataset\n",
        "\n"
      ]
    },
    {
      "cell_type": "code",
      "execution_count": 161,
      "metadata": {
        "collapsed": false
      },
      "outputs": [
        {
          "name": "stdout",
          "output_type": "stream",
          "text": [
            "Checking the results of test dataset.\n"
          ]
        },
        {
          "ename": "RuntimeError",
          "evalue": "Token retangular not found and default index is not set",
          "output_type": "error",
          "traceback": [
            "\u001b[1;31m---------------------------------------------------------------------------\u001b[0m",
            "\u001b[1;31mRuntimeError\u001b[0m                              Traceback (most recent call last)",
            "\u001b[1;32mc:\\Users\\waqasali\\OneDrive - Intel Corporation\\Documents\\MIDS\\W207\\w207_final_project\\notebooks\\BoE_Model_v6.ipynb Cell 26\u001b[0m in \u001b[0;36m<cell line: 2>\u001b[1;34m()\u001b[0m\n\u001b[0;32m      <a href='vscode-notebook-cell:/c%3A/Users/waqasali/OneDrive%20-%20Intel%20Corporation/Documents/MIDS/W207/w207_final_project/notebooks/BoE_Model_v6.ipynb#ch0000032?line=0'>1</a>\u001b[0m \u001b[39mprint\u001b[39m(\u001b[39m'\u001b[39m\u001b[39mChecking the results of test dataset.\u001b[39m\u001b[39m'\u001b[39m)\n\u001b[1;32m----> <a href='vscode-notebook-cell:/c%3A/Users/waqasali/OneDrive%20-%20Intel%20Corporation/Documents/MIDS/W207/w207_final_project/notebooks/BoE_Model_v6.ipynb#ch0000032?line=1'>2</a>\u001b[0m accu_test \u001b[39m=\u001b[39m evaluate(test_dataloader)\n\u001b[0;32m      <a href='vscode-notebook-cell:/c%3A/Users/waqasali/OneDrive%20-%20Intel%20Corporation/Documents/MIDS/W207/w207_final_project/notebooks/BoE_Model_v6.ipynb#ch0000032?line=2'>3</a>\u001b[0m \u001b[39mprint\u001b[39m(\u001b[39m'\u001b[39m\u001b[39mtest accuracy \u001b[39m\u001b[39m{:8.3f}\u001b[39;00m\u001b[39m'\u001b[39m\u001b[39m.\u001b[39mformat(accu_test))\n",
            "\u001b[1;32mc:\\Users\\waqasali\\OneDrive - Intel Corporation\\Documents\\MIDS\\W207\\w207_final_project\\notebooks\\BoE_Model_v6.ipynb Cell 26\u001b[0m in \u001b[0;36mevaluate\u001b[1;34m(dataloader)\u001b[0m\n\u001b[0;32m     <a href='vscode-notebook-cell:/c%3A/Users/waqasali/OneDrive%20-%20Intel%20Corporation/Documents/MIDS/W207/w207_final_project/notebooks/BoE_Model_v6.ipynb#ch0000032?line=25'>26</a>\u001b[0m total_acc, total_count \u001b[39m=\u001b[39m \u001b[39m0\u001b[39m, \u001b[39m0\u001b[39m\n\u001b[0;32m     <a href='vscode-notebook-cell:/c%3A/Users/waqasali/OneDrive%20-%20Intel%20Corporation/Documents/MIDS/W207/w207_final_project/notebooks/BoE_Model_v6.ipynb#ch0000032?line=27'>28</a>\u001b[0m \u001b[39mwith\u001b[39;00m torch\u001b[39m.\u001b[39mno_grad():\n\u001b[1;32m---> <a href='vscode-notebook-cell:/c%3A/Users/waqasali/OneDrive%20-%20Intel%20Corporation/Documents/MIDS/W207/w207_final_project/notebooks/BoE_Model_v6.ipynb#ch0000032?line=28'>29</a>\u001b[0m     \u001b[39mfor\u001b[39;00m idx, (label, text, offsets) \u001b[39min\u001b[39;00m \u001b[39menumerate\u001b[39m(dataloader):\n\u001b[0;32m     <a href='vscode-notebook-cell:/c%3A/Users/waqasali/OneDrive%20-%20Intel%20Corporation/Documents/MIDS/W207/w207_final_project/notebooks/BoE_Model_v6.ipynb#ch0000032?line=29'>30</a>\u001b[0m         predited_label \u001b[39m=\u001b[39m model(text, offsets)\n\u001b[0;32m     <a href='vscode-notebook-cell:/c%3A/Users/waqasali/OneDrive%20-%20Intel%20Corporation/Documents/MIDS/W207/w207_final_project/notebooks/BoE_Model_v6.ipynb#ch0000032?line=30'>31</a>\u001b[0m         loss \u001b[39m=\u001b[39m criterion(predited_label, label)\n",
            "File \u001b[1;32mc:\\Users\\waqasali\\Anaconda3\\envs\\pytorch\\lib\\site-packages\\torch\\utils\\data\\dataloader.py:652\u001b[0m, in \u001b[0;36m_BaseDataLoaderIter.__next__\u001b[1;34m(self)\u001b[0m\n\u001b[0;32m    649\u001b[0m \u001b[39mif\u001b[39;00m \u001b[39mself\u001b[39m\u001b[39m.\u001b[39m_sampler_iter \u001b[39mis\u001b[39;00m \u001b[39mNone\u001b[39;00m:\n\u001b[0;32m    650\u001b[0m     \u001b[39m# TODO(https://github.com/pytorch/pytorch/issues/76750)\u001b[39;00m\n\u001b[0;32m    651\u001b[0m     \u001b[39mself\u001b[39m\u001b[39m.\u001b[39m_reset()  \u001b[39m# type: ignore[call-arg]\u001b[39;00m\n\u001b[1;32m--> 652\u001b[0m data \u001b[39m=\u001b[39m \u001b[39mself\u001b[39;49m\u001b[39m.\u001b[39;49m_next_data()\n\u001b[0;32m    653\u001b[0m \u001b[39mself\u001b[39m\u001b[39m.\u001b[39m_num_yielded \u001b[39m+\u001b[39m\u001b[39m=\u001b[39m \u001b[39m1\u001b[39m\n\u001b[0;32m    654\u001b[0m \u001b[39mif\u001b[39;00m \u001b[39mself\u001b[39m\u001b[39m.\u001b[39m_dataset_kind \u001b[39m==\u001b[39m _DatasetKind\u001b[39m.\u001b[39mIterable \u001b[39mand\u001b[39;00m \\\n\u001b[0;32m    655\u001b[0m         \u001b[39mself\u001b[39m\u001b[39m.\u001b[39m_IterableDataset_len_called \u001b[39mis\u001b[39;00m \u001b[39mnot\u001b[39;00m \u001b[39mNone\u001b[39;00m \u001b[39mand\u001b[39;00m \\\n\u001b[0;32m    656\u001b[0m         \u001b[39mself\u001b[39m\u001b[39m.\u001b[39m_num_yielded \u001b[39m>\u001b[39m \u001b[39mself\u001b[39m\u001b[39m.\u001b[39m_IterableDataset_len_called:\n",
            "File \u001b[1;32mc:\\Users\\waqasali\\Anaconda3\\envs\\pytorch\\lib\\site-packages\\torch\\utils\\data\\dataloader.py:692\u001b[0m, in \u001b[0;36m_SingleProcessDataLoaderIter._next_data\u001b[1;34m(self)\u001b[0m\n\u001b[0;32m    690\u001b[0m \u001b[39mdef\u001b[39;00m \u001b[39m_next_data\u001b[39m(\u001b[39mself\u001b[39m):\n\u001b[0;32m    691\u001b[0m     index \u001b[39m=\u001b[39m \u001b[39mself\u001b[39m\u001b[39m.\u001b[39m_next_index()  \u001b[39m# may raise StopIteration\u001b[39;00m\n\u001b[1;32m--> 692\u001b[0m     data \u001b[39m=\u001b[39m \u001b[39mself\u001b[39;49m\u001b[39m.\u001b[39;49m_dataset_fetcher\u001b[39m.\u001b[39;49mfetch(index)  \u001b[39m# may raise StopIteration\u001b[39;00m\n\u001b[0;32m    693\u001b[0m     \u001b[39mif\u001b[39;00m \u001b[39mself\u001b[39m\u001b[39m.\u001b[39m_pin_memory:\n\u001b[0;32m    694\u001b[0m         data \u001b[39m=\u001b[39m _utils\u001b[39m.\u001b[39mpin_memory\u001b[39m.\u001b[39mpin_memory(data, \u001b[39mself\u001b[39m\u001b[39m.\u001b[39m_pin_memory_device)\n",
            "File \u001b[1;32mc:\\Users\\waqasali\\Anaconda3\\envs\\pytorch\\lib\\site-packages\\torch\\utils\\data\\_utils\\fetch.py:52\u001b[0m, in \u001b[0;36m_MapDatasetFetcher.fetch\u001b[1;34m(self, possibly_batched_index)\u001b[0m\n\u001b[0;32m     50\u001b[0m \u001b[39melse\u001b[39;00m:\n\u001b[0;32m     51\u001b[0m     data \u001b[39m=\u001b[39m \u001b[39mself\u001b[39m\u001b[39m.\u001b[39mdataset[possibly_batched_index]\n\u001b[1;32m---> 52\u001b[0m \u001b[39mreturn\u001b[39;00m \u001b[39mself\u001b[39;49m\u001b[39m.\u001b[39;49mcollate_fn(data)\n",
            "\u001b[1;32mc:\\Users\\waqasali\\OneDrive - Intel Corporation\\Documents\\MIDS\\W207\\w207_final_project\\notebooks\\BoE_Model_v6.ipynb Cell 26\u001b[0m in \u001b[0;36mcollate_batch\u001b[1;34m(batch)\u001b[0m\n\u001b[0;32m      <a href='vscode-notebook-cell:/c%3A/Users/waqasali/OneDrive%20-%20Intel%20Corporation/Documents/MIDS/W207/w207_final_project/notebooks/BoE_Model_v6.ipynb#ch0000032?line=2'>3</a>\u001b[0m \u001b[39mfor\u001b[39;00m (_label, _text) \u001b[39min\u001b[39;00m batch:\n\u001b[0;32m      <a href='vscode-notebook-cell:/c%3A/Users/waqasali/OneDrive%20-%20Intel%20Corporation/Documents/MIDS/W207/w207_final_project/notebooks/BoE_Model_v6.ipynb#ch0000032?line=3'>4</a>\u001b[0m      label_list\u001b[39m.\u001b[39mappend(label_pipeline(_label))\n\u001b[1;32m----> <a href='vscode-notebook-cell:/c%3A/Users/waqasali/OneDrive%20-%20Intel%20Corporation/Documents/MIDS/W207/w207_final_project/notebooks/BoE_Model_v6.ipynb#ch0000032?line=4'>5</a>\u001b[0m      processed_text \u001b[39m=\u001b[39m torch\u001b[39m.\u001b[39mtensor(text_pipeline(_text), dtype\u001b[39m=\u001b[39mtorch\u001b[39m.\u001b[39mint64)\n\u001b[0;32m      <a href='vscode-notebook-cell:/c%3A/Users/waqasali/OneDrive%20-%20Intel%20Corporation/Documents/MIDS/W207/w207_final_project/notebooks/BoE_Model_v6.ipynb#ch0000032?line=5'>6</a>\u001b[0m      text_list\u001b[39m.\u001b[39mappend(processed_text)\n\u001b[0;32m      <a href='vscode-notebook-cell:/c%3A/Users/waqasali/OneDrive%20-%20Intel%20Corporation/Documents/MIDS/W207/w207_final_project/notebooks/BoE_Model_v6.ipynb#ch0000032?line=6'>7</a>\u001b[0m      offsets\u001b[39m.\u001b[39mappend(processed_text\u001b[39m.\u001b[39msize(\u001b[39m0\u001b[39m))\n",
            "\u001b[1;32mc:\\Users\\waqasali\\OneDrive - Intel Corporation\\Documents\\MIDS\\W207\\w207_final_project\\notebooks\\BoE_Model_v6.ipynb Cell 26\u001b[0m in \u001b[0;36m<lambda>\u001b[1;34m(x)\u001b[0m\n\u001b[1;32m----> <a href='vscode-notebook-cell:/c%3A/Users/waqasali/OneDrive%20-%20Intel%20Corporation/Documents/MIDS/W207/w207_final_project/notebooks/BoE_Model_v6.ipynb#ch0000032?line=0'>1</a>\u001b[0m text_pipeline \u001b[39m=\u001b[39m \u001b[39mlambda\u001b[39;00m x: [vocab[token] \u001b[39mfor\u001b[39;00m token \u001b[39min\u001b[39;00m tokenizer(x)]\n\u001b[0;32m      <a href='vscode-notebook-cell:/c%3A/Users/waqasali/OneDrive%20-%20Intel%20Corporation/Documents/MIDS/W207/w207_final_project/notebooks/BoE_Model_v6.ipynb#ch0000032?line=1'>2</a>\u001b[0m label_pipeline \u001b[39m=\u001b[39m \u001b[39mlambda\u001b[39;00m x: \u001b[39mint\u001b[39m(x)\n",
            "\u001b[1;32mc:\\Users\\waqasali\\OneDrive - Intel Corporation\\Documents\\MIDS\\W207\\w207_final_project\\notebooks\\BoE_Model_v6.ipynb Cell 26\u001b[0m in \u001b[0;36m<listcomp>\u001b[1;34m(.0)\u001b[0m\n\u001b[1;32m----> <a href='vscode-notebook-cell:/c%3A/Users/waqasali/OneDrive%20-%20Intel%20Corporation/Documents/MIDS/W207/w207_final_project/notebooks/BoE_Model_v6.ipynb#ch0000032?line=0'>1</a>\u001b[0m text_pipeline \u001b[39m=\u001b[39m \u001b[39mlambda\u001b[39;00m x: [vocab[token] \u001b[39mfor\u001b[39;00m token \u001b[39min\u001b[39;00m tokenizer(x)]\n\u001b[0;32m      <a href='vscode-notebook-cell:/c%3A/Users/waqasali/OneDrive%20-%20Intel%20Corporation/Documents/MIDS/W207/w207_final_project/notebooks/BoE_Model_v6.ipynb#ch0000032?line=1'>2</a>\u001b[0m label_pipeline \u001b[39m=\u001b[39m \u001b[39mlambda\u001b[39;00m x: \u001b[39mint\u001b[39m(x)\n",
            "File \u001b[1;32mc:\\Users\\waqasali\\Anaconda3\\envs\\pytorch\\lib\\site-packages\\torchtext\\vocab\\vocab.py:65\u001b[0m, in \u001b[0;36mVocab.__getitem__\u001b[1;34m(self, token)\u001b[0m\n\u001b[0;32m     56\u001b[0m \u001b[39m@torch\u001b[39m\u001b[39m.\u001b[39mjit\u001b[39m.\u001b[39mexport\n\u001b[0;32m     57\u001b[0m \u001b[39mdef\u001b[39;00m \u001b[39m__getitem__\u001b[39m(\u001b[39mself\u001b[39m, token: \u001b[39mstr\u001b[39m) \u001b[39m-\u001b[39m\u001b[39m>\u001b[39m \u001b[39mint\u001b[39m:\n\u001b[0;32m     58\u001b[0m     \u001b[39mr\u001b[39m\u001b[39m\"\"\"\u001b[39;00m\n\u001b[0;32m     59\u001b[0m \u001b[39m    Args:\u001b[39;00m\n\u001b[0;32m     60\u001b[0m \u001b[39m        token: The token used to lookup the corresponding index.\u001b[39;00m\n\u001b[1;32m   (...)\u001b[0m\n\u001b[0;32m     63\u001b[0m \u001b[39m        The index corresponding to the associated token.\u001b[39;00m\n\u001b[0;32m     64\u001b[0m \u001b[39m    \"\"\"\u001b[39;00m\n\u001b[1;32m---> 65\u001b[0m     \u001b[39mreturn\u001b[39;00m \u001b[39mself\u001b[39;49m\u001b[39m.\u001b[39;49mvocab[token]\n",
            "\u001b[1;31mRuntimeError\u001b[0m: Token retangular not found and default index is not set"
          ]
        }
      ],
      "source": [
        "print('Checking the results of test dataset.')\n",
        "accu_test = evaluate(test_dataloader)\n",
        "print('test accuracy {:8.3f}'.format(accu_test))"
      ]
    }
  ],
  "metadata": {
    "kernelspec": {
      "display_name": "Python 3.9.12 ('pytorch')",
      "language": "python",
      "name": "python3"
    },
    "language_info": {
      "codemirror_mode": {
        "name": "ipython",
        "version": 3
      },
      "file_extension": ".py",
      "mimetype": "text/x-python",
      "name": "python",
      "nbconvert_exporter": "python",
      "pygments_lexer": "ipython3",
      "version": "3.9.12"
    },
    "vscode": {
      "interpreter": {
        "hash": "537e6b82cffd710c047f8e87e1af201701deab2d61e049ada42b0315ac2ac2d4"
      }
    }
  },
  "nbformat": 4,
  "nbformat_minor": 0
}
